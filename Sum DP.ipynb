{
 "cells": [
  {
   "cell_type": "code",
   "execution_count": null,
   "metadata": {},
   "outputs": [],
   "source": [
    "# Each solved with recursion, then tabulation\n",
    "# canSum\n",
    "# howSum\n",
    "# bestSum"
   ]
  },
  {
   "cell_type": "code",
   "execution_count": 118,
   "metadata": {},
   "outputs": [],
   "source": [
    "def canSum(n, vals, memo={}):\n",
    "    \n",
    "    if n in memo:\n",
    "        return memo[n]\n",
    "    \n",
    "    if n == 0:\n",
    "        return True\n",
    "    for val in vals:\n",
    "        if n-val >= 0:\n",
    "            \n",
    "            \n",
    "            if canSum(n-val, vals, memo) == True:\n",
    "                memo[n] = True\n",
    "                return True\n",
    "            \n",
    "    memo[n] = False        \n",
    "    return False"
   ]
  },
  {
   "cell_type": "code",
   "execution_count": 119,
   "metadata": {},
   "outputs": [
    {
     "name": "stdout",
     "output_type": "stream",
     "text": [
      "True\n",
      "False\n",
      "True\n"
     ]
    }
   ],
   "source": [
    "print(canSum(7, [5,3,4,7], {})) #True\n",
    "print(canSum(7, [4,5,6], {})) #False\n",
    "print(canSum(7, [1], {})) #True"
   ]
  },
  {
   "cell_type": "code",
   "execution_count": 120,
   "metadata": {},
   "outputs": [],
   "source": [
    "def howSum(targetSum, numbers, memo = {}):\n",
    "    \n",
    "    if targetSum in memo: return memo[targetSum]\n",
    "    \n",
    "    if targetSum == 0: return []\n",
    "    \n",
    "    if targetSum < 0: return None\n",
    "    \n",
    "    for num in numbers:\n",
    "        subtract = targetSum - num\n",
    "        result = howSum(subtract, numbers, memo)\n",
    "        \n",
    "        if result != None:\n",
    "            new_arr = [*result, num]\n",
    "            memo[targetSum] = new_arr\n",
    "            return new_arr\n",
    "        \n",
    "    memo[targetSum] = None\n",
    "    return None"
   ]
  },
  {
   "cell_type": "code",
   "execution_count": 121,
   "metadata": {},
   "outputs": [
    {
     "name": "stdout",
     "output_type": "stream",
     "text": [
      "[4, 3]\n",
      "[7]\n",
      "[2, 2, 2, 2]\n",
      "None\n",
      "None\n",
      "[7, 7, 7, 7, 7, 7, 7, 7, 7, 7, 7, 7, 7, 7, 7, 7, 7, 7, 7, 7, 7, 7, 7, 7, 7, 7, 7, 7, 7, 7]\n"
     ]
    }
   ],
   "source": [
    "print(howSum(7, [5,3,4,7], {}))\n",
    "print(howSum(7, [7,3,4,5], {}))\n",
    "print(howSum(8, [2,3,4,5], {}))\n",
    "print(howSum(7, [2,4,6], {})) #False\n",
    "print(howSum(300,[7,14], {})) #False\n",
    "print(howSum(210,[7,14], {})) "
   ]
  },
  {
   "cell_type": "code",
   "execution_count": 122,
   "metadata": {},
   "outputs": [],
   "source": [
    "def bestSum(targetSum, numbers, memo = {}):\n",
    "    if targetSum in memo:\n",
    "        return memo[targetSum]\n",
    "    \n",
    "    if targetSum == 0: return []\n",
    "    if targetSum < 0: return None\n",
    "    \n",
    "    shortestCombo = None\n",
    "    \n",
    "    for num in numbers:\n",
    "        subtract = targetSum - num\n",
    "        result = bestSum(subtract, numbers, memo)\n",
    "        \n",
    "        #this is a valid next \n",
    "        if result != None:\n",
    "            new_arr = [*result, num]\n",
    "            \n",
    "            if shortestCombo == None or len(new_arr) < len(shortestCombo):\n",
    "                shortestCombo = new_arr\n",
    "            \n",
    "                \n",
    "    memo[targetSum] = shortestCombo\n",
    "#     print(memo)\n",
    "    return shortestCombo"
   ]
  },
  {
   "cell_type": "code",
   "execution_count": 123,
   "metadata": {},
   "outputs": [
    {
     "name": "stdout",
     "output_type": "stream",
     "text": [
      "[7]\n",
      "[14, 14, 14, 14, 14, 14, 14, 14, 14, 14, 14, 14, 14, 14, 14]\n",
      "[5, 3]\n",
      "[4, 4]\n",
      "[25, 25, 25, 25]\n"
     ]
    }
   ],
   "source": [
    "print(bestSum(7, [5,3,4,7],{}))\n",
    "print(bestSum(210,[7,14], {})) #True\n",
    "print(bestSum(8,[2,3,5], {})) #True\n",
    "print(bestSum(8,[1,4,5], {})) #True\n",
    "print(bestSum(100,[1,2,5,25], {})) #True"
   ]
  },
  {
   "cell_type": "code",
   "execution_count": 124,
   "metadata": {},
   "outputs": [],
   "source": [
    "def canSum_t(n, vals):\n",
    "    array = [False] * (n+1)\n",
    "    array[0] = True\n",
    "    \n",
    "    for i in range(n+1):\n",
    "        if array[i] == True:\n",
    "            for val in vals:\n",
    "\n",
    "                loc = i + val \n",
    "                if loc <= n:\n",
    "                    array[loc] = True\n",
    "    return(array[n])"
   ]
  },
  {
   "cell_type": "code",
   "execution_count": 125,
   "metadata": {},
   "outputs": [
    {
     "name": "stdout",
     "output_type": "stream",
     "text": [
      "True\n",
      "False\n",
      "True\n"
     ]
    }
   ],
   "source": [
    "print(canSum_t(7, [5,3,4,7])) #True\n",
    "print(canSum_t(7, [4,5,6])) #False\n",
    "print(canSum_t(7, [1])) #True"
   ]
  },
  {
   "cell_type": "code",
   "execution_count": 126,
   "metadata": {},
   "outputs": [],
   "source": [
    "def howSum_t(n,vals):\n",
    "    array = [None] * (n+1)\n",
    "    array[0] = []\n",
    "    \n",
    "    for i in range(n+1):\n",
    "        if array[i] != None:\n",
    "            for val in vals:\n",
    "\n",
    "                loc = i + val \n",
    "                if loc <= n:\n",
    "                    array[loc] = [*array[i], val]\n",
    "#     print(array)\n",
    "    return(array[n])"
   ]
  },
  {
   "cell_type": "code",
   "execution_count": 127,
   "metadata": {},
   "outputs": [
    {
     "name": "stdout",
     "output_type": "stream",
     "text": [
      "[4, 3]\n",
      "[4, 3]\n",
      "[2, 2, 2, 2]\n",
      "None\n",
      "None\n",
      "[7, 7, 7, 7, 7, 7, 7, 7, 7, 7, 7, 7, 7, 7, 7, 7, 7, 7, 7, 7, 7, 7, 7, 7, 7, 7, 7, 7, 7, 7]\n"
     ]
    }
   ],
   "source": [
    "print(howSum_t(7, [5,3,4,7]))\n",
    "print(howSum_t(7, [7,3,4,5]))\n",
    "print(howSum_t(8, [2,3,4,5]))\n",
    "print(howSum_t(7, [2,4,6])) #False\n",
    "print(howSum_t(300,[7,14])) #False\n",
    "print(howSum_t(210,[7,14])) "
   ]
  },
  {
   "cell_type": "code",
   "execution_count": 128,
   "metadata": {},
   "outputs": [],
   "source": [
    "def bestSum_t(n,vals):\n",
    "    array = [None] * (n+1)\n",
    "    array[0] = []\n",
    "    \n",
    "    for i in range(n+1):\n",
    "        if array[i] != None:\n",
    "            for val in vals:\n",
    "\n",
    "                loc = i + val \n",
    "                if loc <= n:\n",
    "                    #basically, if what you're going to copy is taking up less space than what is there\n",
    "                    if array[i+val] == None or (len([*array[i], val]) < len(array[loc])):\n",
    "                        array[loc] = [*array[i], val]\n",
    "    return(array[n])"
   ]
  },
  {
   "cell_type": "code",
   "execution_count": 129,
   "metadata": {},
   "outputs": [
    {
     "name": "stdout",
     "output_type": "stream",
     "text": [
      "[3, 4]\n",
      "None\n",
      "[3, 5]\n",
      "[25, 25, 25, 25]\n"
     ]
    }
   ],
   "source": [
    "print(bestSum_t(7, [3,4,5]))\n",
    "print(bestSum_t(7, [4,5]))\n",
    "print(bestSum_t(8, [2,3,4,5]))\n",
    "print(bestSum_t(100, [1,2,7, 25]))"
   ]
  },
  {
   "cell_type": "code",
   "execution_count": null,
   "metadata": {},
   "outputs": [],
   "source": []
  },
  {
   "cell_type": "code",
   "execution_count": null,
   "metadata": {},
   "outputs": [],
   "source": []
  }
 ],
 "metadata": {
  "kernelspec": {
   "display_name": "Python 3",
   "language": "python",
   "name": "python3"
  },
  "language_info": {
   "codemirror_mode": {
    "name": "ipython",
    "version": 3
   },
   "file_extension": ".py",
   "mimetype": "text/x-python",
   "name": "python",
   "nbconvert_exporter": "python",
   "pygments_lexer": "ipython3",
   "version": "3.8.5"
  }
 },
 "nbformat": 4,
 "nbformat_minor": 4
}
