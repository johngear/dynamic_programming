{
 "cells": [
  {
   "cell_type": "code",
   "execution_count": 17,
   "metadata": {},
   "outputs": [],
   "source": [
    "# functions based on Alvin Zablan's course on Dynamic Programming\n",
    "\n",
    "# PROBLEMS (all can be solved recursively using Memoization, then iteratively using Tabulation )\n",
    "\n",
    "# fib\n",
    "# gridTraveler\n",
    "\n",
    "# canSum\n",
    "# howSum\n",
    "# bestSum\n",
    "\n",
    "# canConstruct\n",
    "# countConstruct\n",
    "# allConstruct"
   ]
  },
  {
   "cell_type": "code",
   "execution_count": 1,
   "metadata": {},
   "outputs": [],
   "source": [
    "def fib(n, memo={}):\n",
    "    if n in memo:\n",
    "        return memo[n]\n",
    "    \n",
    "    if n == 2 or n ==1:\n",
    "        return 1\n",
    "    elif n == 0:\n",
    "        return 0\n",
    "    else:\n",
    "        val = fib(n-2) + fib(n-1)\n",
    "        memo[n] = val\n",
    "        return val"
   ]
  },
  {
   "cell_type": "code",
   "execution_count": 12,
   "metadata": {},
   "outputs": [
    {
     "name": "stdout",
     "output_type": "stream",
     "text": [
      "0\n",
      "5\n",
      "8\n",
      "9227465\n"
     ]
    }
   ],
   "source": [
    "print(fib(0))\n",
    "print(fib(5))\n",
    "print(fib(6))\n",
    "print(fib(35)) #9227465"
   ]
  },
  {
   "cell_type": "code",
   "execution_count": 15,
   "metadata": {},
   "outputs": [],
   "source": [
    "def fib_tab(n):\n",
    "    if n == 0: return 0\n",
    "    \n",
    "    table = [0] * (n+1)\n",
    "    table[1] = 1\n",
    "    \n",
    "    for i in range(2,n+1):\n",
    "        table[i] = table[i-1] + table[i-2]\n",
    "    \n",
    "    return table[n]"
   ]
  },
  {
   "cell_type": "code",
   "execution_count": 16,
   "metadata": {},
   "outputs": [
    {
     "name": "stdout",
     "output_type": "stream",
     "text": [
      "0\n",
      "5\n",
      "8\n",
      "9227465\n"
     ]
    }
   ],
   "source": [
    "print(fib_tab(0))\n",
    "print(fib_tab(5))\n",
    "print(fib_tab(6))\n",
    "print(fib_tab(35)) #9227465"
   ]
  },
  {
   "cell_type": "code",
   "execution_count": 27,
   "metadata": {},
   "outputs": [],
   "source": [
    "def grid_traveler(m,n, memo={}):\n",
    "    \n",
    "    #save some memory/time by symmetry\n",
    "    if m > n:\n",
    "        key= str(m) + ',' + str(n)\n",
    "    else: \n",
    "        key= str(n) + ',' + str(m)\n",
    "        \n",
    "    #memo\n",
    "    if key in memo:\n",
    "        return memo[key]\n",
    "\n",
    "    if m == 1 or n == 1:\n",
    "        return 1\n",
    "    elif m == 0 or n == 0:\n",
    "        return 0\n",
    "    else:\n",
    "        val = grid_traveler(m-1,n) + grid_traveler(m,n-1)\n",
    "        \n",
    "        memo[key] = val\n",
    "        return val\n",
    "    "
   ]
  },
  {
   "cell_type": "code",
   "execution_count": 28,
   "metadata": {},
   "outputs": [
    {
     "name": "stdout",
     "output_type": "stream",
     "text": [
      "2\n",
      "1\n",
      "40116600\n"
     ]
    }
   ],
   "source": [
    "print(grid_traveler(2,2))\n",
    "print(grid_traveler(100,1))\n",
    "print(grid_traveler(15,15)) # 40116600"
   ]
  },
  {
   "cell_type": "code",
   "execution_count": 41,
   "metadata": {},
   "outputs": [],
   "source": [
    "import numpy as np\n",
    "def grid_traveler_tab(m,n):\n",
    "    \n",
    "    #create a table that represents the solution for each table size\n",
    "    array = np.zeros((m+2, n+2))\n",
    "    array[1,1] = 1\n",
    "    \n",
    "    #add the current val to the right and down val \n",
    "    for i in range(m+1):\n",
    "        for j in range(n+1):\n",
    "            array[i+1,j] += array[i,j]\n",
    "            array[i,j+1] += array[i,j]\n",
    "            \n",
    "    return array[m,n]"
   ]
  },
  {
   "cell_type": "code",
   "execution_count": 42,
   "metadata": {},
   "outputs": [
    {
     "name": "stdout",
     "output_type": "stream",
     "text": [
      "2.0\n",
      "1.0\n",
      "40116600.0\n"
     ]
    }
   ],
   "source": [
    "print(grid_traveler_tab(2,2))\n",
    "print(grid_traveler_tab(100,1))\n",
    "print(grid_traveler_tab(15,15))"
   ]
  },
  {
   "cell_type": "code",
   "execution_count": null,
   "metadata": {},
   "outputs": [],
   "source": []
  }
 ],
 "metadata": {
  "kernelspec": {
   "display_name": "Python 3",
   "language": "python",
   "name": "python3"
  },
  "language_info": {
   "codemirror_mode": {
    "name": "ipython",
    "version": 3
   },
   "file_extension": ".py",
   "mimetype": "text/x-python",
   "name": "python",
   "nbconvert_exporter": "python",
   "pygments_lexer": "ipython3",
   "version": "3.8.5"
  }
 },
 "nbformat": 4,
 "nbformat_minor": 4
}
